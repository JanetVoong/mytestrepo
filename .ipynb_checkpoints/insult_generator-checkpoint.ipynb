{
 "cells": [
  {
   "cell_type": "markdown",
   "metadata": {},
   "source": [
    "# this is a test notebook\n",
    "\n",
    "write an INSULT generator program\n",
    "\n",
    "adj adj noun\n",
    "\n",
    "stupid smelly frog"
   ]
  },
  {
   "cell_type": "code",
   "execution_count": 1,
   "metadata": {},
   "outputs": [],
   "source": [
    "adj1 = [\"stupid\",\"bald\",\"whiney\",\"boring\"]\n",
    "adj2 = [\"smelly\",\"ugly\",\"lazy\",\"lame\"]\n",
    "noun = [\"chair\",\"cow\",\"dog\",\"ladder\"]"
   ]
  },
  {
   "cell_type": "code",
   "execution_count": 18,
   "metadata": {},
   "outputs": [
    {
     "name": "stdout",
     "output_type": "stream",
     "text": [
      "You are a bald ugly chair\n",
      "You are a bald lazy ladder\n",
      "You are a stupid lame dog\n",
      "You are a whiney ugly cow\n",
      "You are a bald smelly chair\n",
      "You are a stupid ugly dog\n",
      "You are a whiney lame cow\n",
      "You are a stupid lame ladder\n",
      "You are a stupid smelly ladder\n",
      "You are a boring smelly chair\n"
     ]
    }
   ],
   "source": [
    "#choose one word randomly from the list\n",
    "\n",
    "import random\n",
    "#this is the module that does all random calculations\n",
    "\n",
    "for i in range(10):\n",
    "\n",
    "    word1 = random.choice(adj1)\n",
    "    word2 = random.choice(adj2)\n",
    "    word3 = random.choice(noun)\n",
    "\n",
    "    print(\"You are a\",word1,word2,word3)"
   ]
  },
  {
   "cell_type": "code",
   "execution_count": 24,
   "metadata": {},
   "outputs": [
    {
     "name": "stdout",
     "output_type": "stream",
     "text": [
      "You are a whiney smelly dog\n"
     ]
    }
   ],
   "source": [
    "#a different method - choose a random integer\n",
    "x = random.randint(0,len(adj1)-1)\n",
    "y = random.randint(0,len(adj2)-1)\n",
    "z = random.randint(0,len(noun)-1)\n",
    "print(\"You are a\",adj1[x],adj2[y],noun[z])"
   ]
  }
 ],
 "metadata": {
  "kernelspec": {
   "display_name": "Python 3",
   "language": "python",
   "name": "python3"
  },
  "language_info": {
   "codemirror_mode": {
    "name": "ipython",
    "version": 3
   },
   "file_extension": ".py",
   "mimetype": "text/x-python",
   "name": "python",
   "nbconvert_exporter": "python",
   "pygments_lexer": "ipython3",
   "version": "3.5.2"
  }
 },
 "nbformat": 4,
 "nbformat_minor": 2
}
