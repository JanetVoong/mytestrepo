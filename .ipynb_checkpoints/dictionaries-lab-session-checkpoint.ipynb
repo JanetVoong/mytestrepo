{
 "cells": [
  {
   "cell_type": "code",
   "execution_count": 9,
   "metadata": {},
   "outputs": [
    {
     "name": "stdout",
     "output_type": "stream",
     "text": [
      "{'Tina': 48, 'Ziyi': 16, 'Oliver': 17, 'Bob': 22, 'Janet': 16}\n",
      "key =  Tina , value =  48\n",
      "key =  Ziyi , value =  16\n",
      "key =  Oliver , value =  17\n",
      "key =  Bob , value =  22\n",
      "key =  Janet , value =  16\n",
      "Tina   48\n",
      "Ziyi   16\n",
      "Oliver   17\n",
      "Bob   22\n",
      "Janet   16\n"
     ]
    }
   ],
   "source": [
    "# a dictionary is an unordered (NOT a sequence) group of key+value pairs\n",
    "# each key must be UNIQUE (only ever one of each)\n",
    "# a method of structuring data that does not require numbering that data\n",
    "\n",
    "# a dictionary of names (key) and ages (value)\n",
    "nameAgeDict = {} # create an empty dictionary\n",
    "# lets put key value pairs into our dict\n",
    "nameAgeDict['Janet'] = 16\n",
    "nameAgeDict['Tina'] = 48\n",
    "nameAgeDict['Ziyi'] = 16\n",
    "nameAgeDict['Oliver'] = 17\n",
    "nameAgeDict['Bob'] = 22\n",
    "\n",
    "print(nameAgeDict) # debug\n",
    "\n",
    "# print out nicely for user\n",
    "for key in nameAgeDict:\n",
    "    print(\"key = \", key,  \", value = \", nameAgeDict[key])\n",
    "\n",
    "for key, value in nameAgeDict.items():\n",
    "    print(key, \" \", value)"
   ]
  },
  {
   "cell_type": "code",
   "execution_count": 1,
   "metadata": {},
   "outputs": [
    {
     "name": "stdout",
     "output_type": "stream",
     "text": [
      "enter your name (if it is not unique, you will overwrite another user): janet\n",
      "enter your eye colour: dark brown\n",
      "do you want to continue?... y/n: y\n",
      "enter your name (if it is not unique, you will overwrite another user): tina\n",
      "enter your eye colour: brown\n",
      "do you want to continue?... y/n: y\n",
      "enter your name (if it is not unique, you will overwrite another user): oliver\n",
      "enter your eye colour: brown\n",
      "do you want to continue?... y/n: y\n",
      "enter your name (if it is not unique, you will overwrite another user): klaidas\n",
      "enter your eye colour: blue\n",
      "do you want to continue?... y/n: y\n",
      "enter your name (if it is not unique, you will overwrite another user): bob\n",
      "enter your eye colour: green\n",
      "do you want to continue?... y/n: n\n",
      "{'tina': 'brown', 'bob': 'green', 'janet': 'dark brown', 'klaidas': 'blue', 'oliver': 'brown'}\n"
     ]
    }
   ],
   "source": [
    "# eye colour dictionary, store everyone's eye colour\n",
    "# ask the user to enter their eye colours\n",
    "# do some stats - most common eye colour, least common eye colour, all the different\n",
    "eyeColourDict = {}\n",
    "\n",
    "stop = False # assume we DON'T want to stop before we've even started\n",
    "while not stop:\n",
    "    # ask the user to enter their name\n",
    "    name = input(\"enter your name (if it is not unique, you will overwrite another user): \")\n",
    "    #ask the user to enter their eye colour\n",
    "    eyecolour = input(\"enter your eye colour: \")\n",
    "    # put this into the dictionary - dictionary[key]=value\n",
    "    eyeColourDict[name] = eyecolour\n",
    "    #ask the user whether they want to continue or stop\n",
    "    cont = input(\"do you want to continue?... y/n: \").lower()\n",
    "    if cont == \"n\":\n",
    "        stop = True\n",
    "print(eyeColourDict) # debug"
   ]
  },
  {
   "cell_type": "code",
   "execution_count": 14,
   "metadata": {},
   "outputs": [
    {
     "name": "stdout",
     "output_type": "stream",
     "text": [
      "{'brown': 0, 'green': 0, 'blue': 0, 'dark brown': 0}\n",
      "{'brown': 0, 'green': 0, 'blue': 0, 'dark brown': 0}\n"
     ]
    }
   ],
   "source": [
    "#countBr = 0 # initialise the counter\n",
    "#countDB = 0\n",
    "#countBl = 0\n",
    "#countG = 0\n",
    "\n",
    "eyeColour = [\"brown\", \"dark brown\", \"blue\", \"green\"]\n",
    "\n",
    "eyeColourCountDict = {}\n",
    "# fill this dictionary with the colours and the initial 0\n",
    "for i in range(len(eyeColour)):\n",
    "    eyeColourCountDict[eyeColour[i]] = 0\n",
    "print(eyeColourCountDict)\n",
    "\n",
    "# ANOTHER METHOD\n",
    "\n",
    "for key, value in eyeColourDict.items():\n",
    "    #print(key, \" \", value)\n",
    "    # counting the brown-eyed people\n",
    "    if value == eyeColourCountDict:\n",
    "        eyeColourCountDict[value] +=1\n",
    "        #countBr += 1\n",
    "        #eyeColourCountDict[value] += 1\n",
    "    #elif value == eyeColour[1]:\n",
    "        #countDB+=1\n",
    "        #eyeColourCountDict[value] += 1\n",
    "    #elif value == eyeColour[2]:\n",
    "        #countBl+=1\n",
    "        #eyeColourCountDict[value] += 1\n",
    "    #elif value == eyeColour[3]:\n",
    "        #countG+=1\n",
    "        #eyeColourCountDict[value] += 1\n",
    "        \n",
    "print(eyeColourCountDict)\n",
    "\n",
    "#print(\"there are \", countBr, \" brown eyed people.\")\n",
    "#print(\"there are \", countDB, \" dark brown eyed people.\")\n",
    "#print(\"there are \", countBl, \" blue eyed people.\")\n",
    "#print(\"there are \", countG, \" green eyed people.\")"
   ]
  }
 ],
 "metadata": {
  "kernelspec": {
   "display_name": "Python 3",
   "language": "python",
   "name": "python3"
  },
  "language_info": {
   "codemirror_mode": {
    "name": "ipython",
    "version": 3
   },
   "file_extension": ".py",
   "mimetype": "text/x-python",
   "name": "python",
   "nbconvert_exporter": "python",
   "pygments_lexer": "ipython3",
   "version": "3.5.2"
  }
 },
 "nbformat": 4,
 "nbformat_minor": 2
}
